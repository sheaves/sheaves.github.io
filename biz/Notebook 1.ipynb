{
 "cells": [
  {
   "cell_type": "markdown",
   "id": "140c1d92",
   "metadata": {},
   "source": [
    "# k-Nearest Neighbors, Train vs. Test Error, and Bias vs. Variance\n",
    "\n",
    "In this notebook, we will demonstrate:\n",
    "1. How to fit a $k$-nearest neighbors ($k$-NN) model\n",
    "2. The difference between train error and test error\n",
    "3. How test error decomposes into bias and variance"
   ]
  },
  {
   "cell_type": "markdown",
   "id": "7d1d6af1",
   "metadata": {},
   "source": [
    "## Generate data from our model\n",
    "\n",
    "Throughout this notebook, we will assume that we have a model given by a 3rd-order polynomial:\n",
    "\n",
    "$$y = \\beta_0 + \\beta_1 x + \\beta_2 x^2 + \\beta_3 x^3 + \\varepsilon, ~~ \\varepsilon \\sim \\text{N}(0, \\sigma^2).$$\n",
    "\n",
    "We first simulate the 3rd-order polynomial model, to generate our dataset."
   ]
  },
  {
   "cell_type": "code",
   "execution_count": 1,
   "id": "3d6fd72b",
   "metadata": {},
   "outputs": [
    {
     "data": {
      "image/png": "[encoded data removed]",
      "text/plain": [
       "<Figure size 432x288 with 1 Axes>"
      ]
     },
     "metadata": {
      "needs_background": "light"
     },
     "output_type": "display_data"
    }
   ],
   "source": [
    "import numpy as np\n",
    "import pandas as pd\n",
    "from matplotlib import pyplot as plt\n",
    "\n",
    "# Polynomial coefficients\n",
    "beta0 = 1\n",
    "beta1 = -2\n",
    "beta2 = 6\n",
    "beta3 = -1\n",
    "\n",
    "# Standard deviation of epsilon (noise)\n",
    "sigma = 2\n",
    "\n",
    "# Other parameters that we will use throughout\n",
    "x_min = 0\n",
    "x_max = 5\n",
    "\n",
    "# Define our polynomial\n",
    "def p(x):\n",
    "    return beta0 + beta1 * x + beta2 * x**2 + beta3 * x**3\n",
    "\n",
    "# Define a plotting function, for convenience\n",
    "def plot(f, x_min, x_max, color = 'red', n_points = 1000):\n",
    "    x = np.linspace(x_min, x_max, n_points).reshape(-1,1)\n",
    "    y = f(x)\n",
    "    plt.plot(x,y, color = color)\n",
    "    \n",
    "plot(p, x_min, x_max)"
   ]
  },
  {
   "cell_type": "markdown",
   "id": "4a11121f",
   "metadata": {},
   "source": [
    "We generate a dataset, then split it into train and test sets."
   ]
  },
  {
   "cell_type": "code",
   "execution_count": 11,
   "id": "e806d4f0",
   "metadata": {},
   "outputs": [
    {
     "data": {
      "image/png": "[encoded data removed]",
      "text/plain": [
       "<Figure size 432x288 with 1 Axes>"
      ]
     },
     "metadata": {
      "needs_background": "light"
     },
     "output_type": "display_data"
    }
   ],
   "source": [
    "# Convenience function to sample from a given function f\n",
    "def sample(f, n, sigma, x_min = 0, x_max = 1, seed = None):    \n",
    "    np.random.seed(seed)\n",
    "    X   = np.random.uniform(x_min, x_max, size = (n,1))\n",
    "    eps = np.random.normal(0, sigma, size = (n,1))\n",
    "    y = f(X) + eps\n",
    "    return X, y\n",
    "\n",
    "# Generate dataset and plot datapoints\n",
    "X, y = sample(p, 100, sigma, x_min, x_max, seed = 2022)\n",
    "plt.scatter(X,y, s = 5)\n",
    "plot(p, x_min, x_max)"
   ]
  },
  {
   "cell_type": "code",
   "execution_count": 7,
   "id": "d850f3cc",
   "metadata": {},
   "outputs": [],
   "source": [
    "from sklearn.model_selection import train_test_split\n",
    "\n",
    "X_train, X_test, y_train, y_test = train_test_split(X, y, test_size=0.3)"
   ]
  },
  {
   "cell_type": "code",
   "execution_count": 8,
   "id": "f3612db4",
   "metadata": {},
   "outputs": [
    {
     "data": {
      "text/plain": [
       "(70, 1)"
      ]
     },
     "execution_count": 8,
     "metadata": {},
     "output_type": "execute_result"
    }
   ],
   "source": [
    "X_train.shape"
   ]
  },
  {
   "cell_type": "code",
   "execution_count": 9,
   "id": "bf6eeff5",
   "metadata": {},
   "outputs": [
    {
     "data": {
      "text/plain": [
       "(30, 1)"
      ]
     },
     "execution_count": 9,
     "metadata": {},
     "output_type": "execute_result"
    }
   ],
   "source": [
    "X_test.shape"
   ]
  },
  {
   "cell_type": "markdown",
   "id": "728f5e8e",
   "metadata": {},
   "source": [
    "## Train $k$-Nearest Neighbours\n",
    "\n",
    "Using our training datset, we can train a $k$-nearest neighbours model. Let's start with $k$ = 1."
   ]
  },
  {
   "cell_type": "code",
   "execution_count": 12,
   "id": "5dbe54db",
   "metadata": {},
   "outputs": [
    {
     "data": {
      "text/html": [
       "<style>#sk-container-id-2 {color: black;background-color: white;}#sk-container-id-2 pre{padding: 0;}#sk-container-id-2 div.sk-toggleable {background-color: white;}#sk-container-id-2 label.sk-toggleable__label {cursor: pointer;display: block;width: 100%;margin-bottom: 0;padding: 0.3em;box-sizing: border-box;text-align: center;}#sk-container-id-2 label.sk-toggleable__label-arrow:before {content: \"▸\";float: left;margin-right: 0.25em;color: #696969;}#sk-container-id-2 label.sk-toggleable__label-arrow:hover:before {color: black;}#sk-container-id-2 div.sk-estimator:hover label.sk-toggleable__label-arrow:before {color: black;}#sk-container-id-2 div.sk-toggleable__content {max-height: 0;max-width: 0;overflow: hidden;text-align: left;background-color: #f0f8ff;}#sk-container-id-2 div.sk-toggleable__content pre {margin: 0.2em;color: black;border-radius: 0.25em;background-color: #f0f8ff;}#sk-container-id-2 input.sk-toggleable__control:checked~div.sk-toggleable__content {max-height: 200px;max-width: 100%;overflow: auto;}#sk-container-id-2 input.sk-toggleable__control:checked~label.sk-toggleable__label-arrow:before {content: \"▾\";}#sk-container-id-2 div.sk-estimator input.sk-toggleable__control:checked~label.sk-toggleable__label {background-color: #d4ebff;}#sk-container-id-2 div.sk-label input.sk-toggleable__control:checked~label.sk-toggleable__label {background-color: #d4ebff;}#sk-container-id-2 input.sk-hidden--visually {border: 0;clip: rect(1px 1px 1px 1px);clip: rect(1px, 1px, 1px, 1px);height: 1px;margin: -1px;overflow: hidden;padding: 0;position: absolute;width: 1px;}#sk-container-id-2 div.sk-estimator {font-family: monospace;background-color: #f0f8ff;border: 1px dotted black;border-radius: 0.25em;box-sizing: border-box;margin-bottom: 0.5em;}#sk-container-id-2 div.sk-estimator:hover {background-color: #d4ebff;}#sk-container-id-2 div.sk-parallel-item::after {content: \"\";width: 100%;border-bottom: 1px solid gray;flex-grow: 1;}#sk-container-id-2 div.sk-label:hover label.sk-toggleable__label {background-color: #d4ebff;}#sk-container-id-2 div.sk-serial::before {content: \"\";position: absolute;border-left: 1px solid gray;box-sizing: border-box;top: 0;bottom: 0;left: 50%;z-index: 0;}#sk-container-id-2 div.sk-serial {display: flex;flex-direction: column;align-items: center;background-color: white;padding-right: 0.2em;padding-left: 0.2em;position: relative;}#sk-container-id-2 div.sk-item {position: relative;z-index: 1;}#sk-container-id-2 div.sk-parallel {display: flex;align-items: stretch;justify-content: center;background-color: white;position: relative;}#sk-container-id-2 div.sk-item::before, #sk-container-id-2 div.sk-parallel-item::before {content: \"\";position: absolute;border-left: 1px solid gray;box-sizing: border-box;top: 0;bottom: 0;left: 50%;z-index: -1;}#sk-container-id-2 div.sk-parallel-item {display: flex;flex-direction: column;z-index: 1;position: relative;background-color: white;}#sk-container-id-2 div.sk-parallel-item:first-child::after {align-self: flex-end;width: 50%;}#sk-container-id-2 div.sk-parallel-item:last-child::after {align-self: flex-start;width: 50%;}#sk-container-id-2 div.sk-parallel-item:only-child::after {width: 0;}#sk-container-id-2 div.sk-dashed-wrapped {border: 1px dashed gray;margin: 0 0.4em 0.5em 0.4em;box-sizing: border-box;padding-bottom: 0.4em;background-color: white;}#sk-container-id-2 div.sk-label label {font-family: monospace;font-weight: bold;display: inline-block;line-height: 1.2em;}#sk-container-id-2 div.sk-label-container {text-align: center;}#sk-container-id-2 div.sk-container {/* jupyter's `normalize.less` sets `[hidden] { display: none; }` but bootstrap.min.css set `[hidden] { display: none !important; }` so we also need the `!important` here to be able to override the default hidden behavior on the sphinx rendered scikit-learn.org. See: https://github.com/scikit-learn/scikit-learn/issues/21755 */display: inline-block !important;position: relative;}#sk-container-id-2 div.sk-text-repr-fallback {display: none;}</style><div id=\"sk-container-id-2\" class=\"sk-top-container\"><div class=\"sk-text-repr-fallback\"><pre>KNeighborsRegressor(n_neighbors=1)</pre><b>In a Jupyter environment, please rerun this cell to show the HTML representation or trust the notebook. <br />On GitHub, the HTML representation is unable to render, please try loading this page with nbviewer.org.</b></div><div class=\"sk-container\" hidden><div class=\"sk-item\"><div class=\"sk-estimator sk-toggleable\"><input class=\"sk-toggleable__control sk-hidden--visually\" id=\"sk-estimator-id-2\" type=\"checkbox\" checked><label for=\"sk-estimator-id-2\" class=\"sk-toggleable__label sk-toggleable__label-arrow\">KNeighborsRegressor</label><div class=\"sk-toggleable__content\"><pre>KNeighborsRegressor(n_neighbors=1)</pre></div></div></div></div></div>"
      ],
      "text/plain": [
       "KNeighborsRegressor(n_neighbors=1)"
      ]
     },
     "execution_count": 12,
     "metadata": {},
     "output_type": "execute_result"
    }
   ],
   "source": [
    "from sklearn.neighbors import KNeighborsRegressor\n",
    "\n",
    "knn = KNeighborsRegressor(n_neighbors = 1)\n",
    "knn.fit(X_train, y_train)"
   ]
  },
  {
   "cell_type": "markdown",
   "id": "d09cdbb9",
   "metadata": {},
   "source": [
    "Every trained sklearn model has a ```predict``` function. \n",
    "\n",
    "Let's use our ```plot``` function to plot the predictions of our trained model, superimposed over our training data."
   ]
  },
  {
   "cell_type": "code",
   "execution_count": 13,
   "id": "e6fe6efb",
   "metadata": {},
   "outputs": [
    {
     "data": {
      "image/png": "[encoded data removed]",
      "text/plain": [
       "<Figure size 432x288 with 1 Axes>"
      ]
     },
     "metadata": {
      "needs_background": "light"
     },
     "output_type": "display_data"
    }
   ],
   "source": [
    "plt.scatter(X_train, y_train, s = 10)\n",
    "plot(knn.predict, x_min, x_max, color = 'grey')"
   ]
  },
  {
   "cell_type": "markdown",
   "id": "e391b827",
   "metadata": {},
   "source": [
    "Our model fits our training data perfectly, but this isn't necesarilty a good thing.\n",
    "\n",
    "Let's try other values of $k$."
   ]
  },
  {
   "cell_type": "code",
   "execution_count": 16,
   "id": "382d0766",
   "metadata": {},
   "outputs": [
    {
     "data": {
      "image/png": "[encoded data removed]",
      "text/plain": [
       "<Figure size 432x288 with 1 Axes>"
      ]
     },
     "metadata": {
      "needs_background": "light"
     },
     "output_type": "display_data"
    }
   ],
   "source": [
    "k = 15\n",
    "\n",
    "knn = KNeighborsRegressor(n_neighbors = k)\n",
    "knn.fit(X_train, y_train)\n",
    "\n",
    "plt.scatter(X_train, y_train, s = 10)\n",
    "plot(knn.predict, x_min, x_max, color = 'grey')"
   ]
  },
  {
   "cell_type": "code",
   "execution_count": 9,
   "id": "36e6eee4",
   "metadata": {},
   "outputs": [
    {
     "data": {
      "image/png": "[encoded data removed]",
      "text/plain": [
       "<Figure size 432x288 with 1 Axes>"
      ]
     },
     "metadata": {
      "needs_background": "light"
     },
     "output_type": "display_data"
    }
   ],
   "source": [
    "k = 30\n",
    "\n",
    "knn = KNeighborsRegressor(n_neighbors = k)\n",
    "knn.fit(X_train, y_train)\n",
    "\n",
    "plt.scatter(X_train, y_train, s = 10)\n",
    "plot(knn.predict, x_min, x_max, color = 'grey')"
   ]
  },
  {
   "cell_type": "markdown",
   "id": "073016f9",
   "metadata": {},
   "source": [
    "## Compute Train and Test Error"
   ]
  },
  {
   "cell_type": "code",
   "execution_count": 10,
   "id": "cb849cb3",
   "metadata": {},
   "outputs": [
    {
     "name": "stdout",
     "output_type": "stream",
     "text": [
      "k = 1\n",
      "Train MSE: 0.0\n",
      "Test  MSE: 7.872198211234595\n"
     ]
    },
    {
     "data": {
      "text/plain": [
       "(0.0, 7.872198211234595)"
      ]
     },
     "execution_count": 10,
     "metadata": {},
     "output_type": "execute_result"
    }
   ],
   "source": [
    "from sklearn.metrics import mean_squared_error \n",
    "\n",
    "# Convenience function to fit k-NN and compute train and test errors\n",
    "def knn_mse(k, X_train, y_train, X_test, y_test, print_output = False):\n",
    "    knn = KNeighborsRegressor(n_neighbors = k)\n",
    "    knn.fit(X_train, y_train)\n",
    "\n",
    "    # Training MSE\n",
    "    mse_train = mean_squared_error(y_train, knn.predict(X_train))\n",
    "\n",
    "    # Test MSE\n",
    "    mse_test  = mean_squared_error(y_test, knn.predict(X_test))\n",
    "\n",
    "    if print_output:\n",
    "        print(f'k = {k}')\n",
    "        print(f'Train MSE: {mse_train}')\n",
    "        print(f'Test  MSE: {mse_test}')\n",
    "    \n",
    "    return mse_train, mse_test\n",
    "    \n",
    "knn_mse(1, X_train, y_train, X_test, y_test, print_output = True)"
   ]
  },
  {
   "cell_type": "code",
   "execution_count": 11,
   "id": "d8b09331",
   "metadata": {},
   "outputs": [
    {
     "name": "stdout",
     "output_type": "stream",
     "text": [
      "k = 15\n",
      "Train MSE: 5.6114622870224515\n",
      "Test  MSE: 5.547848720022162\n"
     ]
    },
    {
     "data": {
      "text/plain": [
       "(5.6114622870224515, 5.547848720022162)"
      ]
     },
     "execution_count": 11,
     "metadata": {},
     "output_type": "execute_result"
    }
   ],
   "source": [
    "knn_mse(15, X_train, y_train, X_test, y_test, print_output = True)"
   ]
  },
  {
   "cell_type": "code",
   "execution_count": 11,
   "id": "dd8d3dfb",
   "metadata": {},
   "outputs": [
    {
     "name": "stdout",
     "output_type": "stream",
     "text": [
      "k = 50\n",
      "Train MSE: 36.912263148964676\n",
      "Test  MSE: 55.518837640848886\n"
     ]
    },
    {
     "data": {
      "text/plain": [
       "(36.912263148964676, 55.518837640848886)"
      ]
     },
     "execution_count": 11,
     "metadata": {},
     "output_type": "execute_result"
    }
   ],
   "source": [
    "knn_mse(50, X_train, y_train, X_test, y_test, print_output = True)"
   ]
  },
  {
   "cell_type": "markdown",
   "id": "df911a10",
   "metadata": {},
   "source": [
    "Let's repeat this for a range of values of $k$ and plot the train and test MSEs."
   ]
  },
  {
   "cell_type": "code",
   "execution_count": 12,
   "id": "919d408d",
   "metadata": {
    "scrolled": true
   },
   "outputs": [
    {
     "data": {
      "text/html": [
       "<div>\n",
       "<style scoped>\n",
       "    .dataframe tbody tr th:only-of-type {\n",
       "        vertical-align: middle;\n",
       "    }\n",
       "\n",
       "    .dataframe tbody tr th {\n",
       "        vertical-align: top;\n",
       "    }\n",
       "\n",
       "    .dataframe thead th {\n",
       "        text-align: right;\n",
       "    }\n",
       "</style>\n",
       "<table border=\"1\" class=\"dataframe\">\n",
       "  <thead>\n",
       "    <tr style=\"text-align: right;\">\n",
       "      <th></th>\n",
       "      <th>Train</th>\n",
       "      <th>Test</th>\n",
       "    </tr>\n",
       "  </thead>\n",
       "  <tbody>\n",
       "    <tr>\n",
       "      <th>1</th>\n",
       "      <td>0.0</td>\n",
       "      <td>7.872198</td>\n",
       "    </tr>\n",
       "    <tr>\n",
       "      <th>2</th>\n",
       "      <td>1.573811</td>\n",
       "      <td>6.771593</td>\n",
       "    </tr>\n",
       "    <tr>\n",
       "      <th>3</th>\n",
       "      <td>2.47235</td>\n",
       "      <td>5.795224</td>\n",
       "    </tr>\n",
       "    <tr>\n",
       "      <th>4</th>\n",
       "      <td>2.944783</td>\n",
       "      <td>5.376236</td>\n",
       "    </tr>\n",
       "    <tr>\n",
       "      <th>5</th>\n",
       "      <td>3.163189</td>\n",
       "      <td>5.129518</td>\n",
       "    </tr>\n",
       "    <tr>\n",
       "      <th>6</th>\n",
       "      <td>3.187444</td>\n",
       "      <td>5.20438</td>\n",
       "    </tr>\n",
       "    <tr>\n",
       "      <th>7</th>\n",
       "      <td>3.039649</td>\n",
       "      <td>5.028385</td>\n",
       "    </tr>\n",
       "    <tr>\n",
       "      <th>8</th>\n",
       "      <td>2.987758</td>\n",
       "      <td>4.13933</td>\n",
       "    </tr>\n",
       "    <tr>\n",
       "      <th>9</th>\n",
       "      <td>3.212536</td>\n",
       "      <td>4.446781</td>\n",
       "    </tr>\n",
       "    <tr>\n",
       "      <th>10</th>\n",
       "      <td>3.764816</td>\n",
       "      <td>4.447365</td>\n",
       "    </tr>\n",
       "    <tr>\n",
       "      <th>11</th>\n",
       "      <td>4.310193</td>\n",
       "      <td>4.234431</td>\n",
       "    </tr>\n",
       "    <tr>\n",
       "      <th>12</th>\n",
       "      <td>4.625974</td>\n",
       "      <td>4.5947</td>\n",
       "    </tr>\n",
       "    <tr>\n",
       "      <th>13</th>\n",
       "      <td>4.857678</td>\n",
       "      <td>4.544774</td>\n",
       "    </tr>\n",
       "    <tr>\n",
       "      <th>14</th>\n",
       "      <td>5.329503</td>\n",
       "      <td>4.987495</td>\n",
       "    </tr>\n",
       "    <tr>\n",
       "      <th>15</th>\n",
       "      <td>5.611462</td>\n",
       "      <td>5.547849</td>\n",
       "    </tr>\n",
       "    <tr>\n",
       "      <th>16</th>\n",
       "      <td>5.821538</td>\n",
       "      <td>5.716477</td>\n",
       "    </tr>\n",
       "    <tr>\n",
       "      <th>17</th>\n",
       "      <td>5.813839</td>\n",
       "      <td>5.849073</td>\n",
       "    </tr>\n",
       "    <tr>\n",
       "      <th>18</th>\n",
       "      <td>6.213606</td>\n",
       "      <td>6.369519</td>\n",
       "    </tr>\n",
       "    <tr>\n",
       "      <th>19</th>\n",
       "      <td>6.316719</td>\n",
       "      <td>6.217932</td>\n",
       "    </tr>\n",
       "    <tr>\n",
       "      <th>20</th>\n",
       "      <td>6.332676</td>\n",
       "      <td>6.585914</td>\n",
       "    </tr>\n",
       "    <tr>\n",
       "      <th>21</th>\n",
       "      <td>6.474558</td>\n",
       "      <td>7.270339</td>\n",
       "    </tr>\n",
       "    <tr>\n",
       "      <th>22</th>\n",
       "      <td>6.774858</td>\n",
       "      <td>7.924376</td>\n",
       "    </tr>\n",
       "    <tr>\n",
       "      <th>23</th>\n",
       "      <td>7.10684</td>\n",
       "      <td>8.47754</td>\n",
       "    </tr>\n",
       "    <tr>\n",
       "      <th>24</th>\n",
       "      <td>7.417818</td>\n",
       "      <td>8.737757</td>\n",
       "    </tr>\n",
       "    <tr>\n",
       "      <th>25</th>\n",
       "      <td>7.509504</td>\n",
       "      <td>9.303045</td>\n",
       "    </tr>\n",
       "    <tr>\n",
       "      <th>26</th>\n",
       "      <td>7.824881</td>\n",
       "      <td>9.994798</td>\n",
       "    </tr>\n",
       "    <tr>\n",
       "      <th>27</th>\n",
       "      <td>8.231468</td>\n",
       "      <td>11.09751</td>\n",
       "    </tr>\n",
       "    <tr>\n",
       "      <th>28</th>\n",
       "      <td>8.432414</td>\n",
       "      <td>11.493799</td>\n",
       "    </tr>\n",
       "    <tr>\n",
       "      <th>29</th>\n",
       "      <td>8.742173</td>\n",
       "      <td>12.249229</td>\n",
       "    </tr>\n",
       "    <tr>\n",
       "      <th>30</th>\n",
       "      <td>9.260577</td>\n",
       "      <td>13.51071</td>\n",
       "    </tr>\n",
       "  </tbody>\n",
       "</table>\n",
       "</div>"
      ],
      "text/plain": [
       "       Train       Test\n",
       "1        0.0   7.872198\n",
       "2   1.573811   6.771593\n",
       "3    2.47235   5.795224\n",
       "4   2.944783   5.376236\n",
       "5   3.163189   5.129518\n",
       "6   3.187444    5.20438\n",
       "7   3.039649   5.028385\n",
       "8   2.987758    4.13933\n",
       "9   3.212536   4.446781\n",
       "10  3.764816   4.447365\n",
       "11  4.310193   4.234431\n",
       "12  4.625974     4.5947\n",
       "13  4.857678   4.544774\n",
       "14  5.329503   4.987495\n",
       "15  5.611462   5.547849\n",
       "16  5.821538   5.716477\n",
       "17  5.813839   5.849073\n",
       "18  6.213606   6.369519\n",
       "19  6.316719   6.217932\n",
       "20  6.332676   6.585914\n",
       "21  6.474558   7.270339\n",
       "22  6.774858   7.924376\n",
       "23   7.10684    8.47754\n",
       "24  7.417818   8.737757\n",
       "25  7.509504   9.303045\n",
       "26  7.824881   9.994798\n",
       "27  8.231468   11.09751\n",
       "28  8.432414  11.493799\n",
       "29  8.742173  12.249229\n",
       "30  9.260577   13.51071"
      ]
     },
     "execution_count": 12,
     "metadata": {},
     "output_type": "execute_result"
    }
   ],
   "source": [
    "k_range = range(1,31)\n",
    "mse_df = pd.DataFrame(index = k_range, columns = ['Train', 'Test'])\n",
    "\n",
    "for k in k_range:\n",
    "    mse_train, mse_test = knn_mse(k, X_train, y_train, X_test, y_test)\n",
    "    mse_df['Train'][k] = mse_train\n",
    "    mse_df['Test'][k] = mse_test\n",
    "\n",
    "mse_df"
   ]
  },
  {
   "cell_type": "code",
   "execution_count": 13,
   "id": "9a813f2b",
   "metadata": {},
   "outputs": [
    {
     "data": {
      "text/plain": [
       "<AxesSubplot:>"
      ]
     },
     "execution_count": 13,
     "metadata": {},
     "output_type": "execute_result"
    },
    {
     "data": {
      "image/png": "[encoded data removed]",
      "text/plain": [
       "<Figure size 432x288 with 1 Axes>"
      ]
     },
     "metadata": {
      "needs_background": "light"
     },
     "output_type": "display_data"
    }
   ],
   "source": [
    "mse_df.plot(marker = '.')"
   ]
  },
  {
   "cell_type": "markdown",
   "id": "c37861d9",
   "metadata": {},
   "source": [
    "## Compute Bias and Variance\n",
    "\n",
    "Our results above were all based on one dataset. If we repeat this on another dataset, we'll get different results.\n",
    "\n",
    "Let's try 10 different datasets and see how our models vary."
   ]
  },
  {
   "cell_type": "code",
   "execution_count": 14,
   "id": "20b6e9d9",
   "metadata": {},
   "outputs": [
    {
     "data": {
      "image/png": "[encoded data removed]",
      "text/plain": [
       "<Figure size 432x288 with 1 Axes>"
      ]
     },
     "metadata": {
      "needs_background": "light"
     },
     "output_type": "display_data"
    }
   ],
   "source": [
    "k = 1\n",
    "\n",
    "for i in range(10):\n",
    "    X, y = sample(p, 100, sigma, x_min, x_max)\n",
    "    X_train, X_test, y_train, y_test = train_test_split(X, y, test_size=0.3)\n",
    "\n",
    "    knn = KNeighborsRegressor(n_neighbors = k)\n",
    "    knn.fit(X_train, y_train)\n",
    "\n",
    "    plot(knn.predict, x_min, x_max, color = 'lightgrey')\n",
    "\n",
    "plot(p, x_min, x_max)"
   ]
  },
  {
   "cell_type": "code",
   "execution_count": 15,
   "id": "30585be0",
   "metadata": {},
   "outputs": [
    {
     "data": {
      "image/png": "[encoded data removed]",
      "text/plain": [
       "<Figure size 432x288 with 1 Axes>"
      ]
     },
     "metadata": {
      "needs_background": "light"
     },
     "output_type": "display_data"
    }
   ],
   "source": [
    "k = 15\n",
    "\n",
    "for i in range(10):\n",
    "    X, y = sample(p, 100, sigma, x_min, x_max)\n",
    "    X_train, X_test, y_train, y_test = train_test_split(X, y, test_size=0.3)\n",
    "\n",
    "    knn = KNeighborsRegressor(n_neighbors = k)\n",
    "    knn.fit(X_train, y_train)\n",
    "\n",
    "    plot(knn.predict, x_min, x_max, color = 'lightgrey')\n",
    "\n",
    "plot(p, x_min, x_max)"
   ]
  },
  {
   "cell_type": "code",
   "execution_count": 27,
   "id": "890a4908",
   "metadata": {},
   "outputs": [
    {
     "data": {
      "image/png": "[encoded data removed]",
      "text/plain": [
       "<Figure size 432x288 with 1 Axes>"
      ]
     },
     "metadata": {
      "needs_background": "light"
     },
     "output_type": "display_data"
    }
   ],
   "source": [
    "k = 50\n",
    "\n",
    "for i in range(10):\n",
    "    X, y = sample(p, 100, sigma, x_min, x_max)\n",
    "    X_train, X_test, y_train, y_test = train_test_split(X, y, test_size=0.3)\n",
    "\n",
    "    knn = KNeighborsRegressor(n_neighbors = k)\n",
    "    knn.fit(X_train, y_train)\n",
    "\n",
    "    plot(knn.predict, x_min, x_max, color = 'lightgrey')\n",
    "\n",
    "plot(p, x_min, x_max)"
   ]
  },
  {
   "cell_type": "markdown",
   "id": "b7ae48c2",
   "metadata": {},
   "source": [
    "The graphs above give you a sense of the bias and variance of each model.\n",
    "\n",
    "The following code computes the (test) MSE across 50 datasets and decomposes it into bias, variance, and irreducible error."
   ]
  },
  {
   "cell_type": "code",
   "execution_count": 18,
   "id": "6efc061e",
   "metadata": {
    "scrolled": true
   },
   "outputs": [
    {
     "data": {
      "text/html": [
       "<div>\n",
       "<style scoped>\n",
       "    .dataframe tbody tr th:only-of-type {\n",
       "        vertical-align: middle;\n",
       "    }\n",
       "\n",
       "    .dataframe tbody tr th {\n",
       "        vertical-align: top;\n",
       "    }\n",
       "\n",
       "    .dataframe thead th {\n",
       "        text-align: right;\n",
       "    }\n",
       "</style>\n",
       "<table border=\"1\" class=\"dataframe\">\n",
       "  <thead>\n",
       "    <tr style=\"text-align: right;\">\n",
       "      <th></th>\n",
       "      <th>MSE</th>\n",
       "      <th>Bias$^2$</th>\n",
       "      <th>Variance</th>\n",
       "      <th>Irred. Error</th>\n",
       "    </tr>\n",
       "  </thead>\n",
       "  <tbody>\n",
       "    <tr>\n",
       "      <th>1</th>\n",
       "      <td>7.740122</td>\n",
       "      <td>0.121191</td>\n",
       "      <td>4.20123</td>\n",
       "      <td>3.417701</td>\n",
       "    </tr>\n",
       "    <tr>\n",
       "      <th>2</th>\n",
       "      <td>5.681814</td>\n",
       "      <td>0.032399</td>\n",
       "      <td>2.240147</td>\n",
       "      <td>3.409267</td>\n",
       "    </tr>\n",
       "    <tr>\n",
       "      <th>3</th>\n",
       "      <td>5.083081</td>\n",
       "      <td>0.090349</td>\n",
       "      <td>1.532603</td>\n",
       "      <td>3.460129</td>\n",
       "    </tr>\n",
       "    <tr>\n",
       "      <th>4</th>\n",
       "      <td>4.627755</td>\n",
       "      <td>0.051585</td>\n",
       "      <td>1.130595</td>\n",
       "      <td>3.445575</td>\n",
       "    </tr>\n",
       "    <tr>\n",
       "      <th>5</th>\n",
       "      <td>4.860961</td>\n",
       "      <td>0.252375</td>\n",
       "      <td>1.089281</td>\n",
       "      <td>3.519305</td>\n",
       "    </tr>\n",
       "    <tr>\n",
       "      <th>6</th>\n",
       "      <td>4.705251</td>\n",
       "      <td>0.260165</td>\n",
       "      <td>0.937535</td>\n",
       "      <td>3.507552</td>\n",
       "    </tr>\n",
       "    <tr>\n",
       "      <th>7</th>\n",
       "      <td>4.636355</td>\n",
       "      <td>0.270009</td>\n",
       "      <td>0.856178</td>\n",
       "      <td>3.510169</td>\n",
       "    </tr>\n",
       "    <tr>\n",
       "      <th>8</th>\n",
       "      <td>4.856241</td>\n",
       "      <td>0.445004</td>\n",
       "      <td>0.827447</td>\n",
       "      <td>3.583791</td>\n",
       "    </tr>\n",
       "    <tr>\n",
       "      <th>9</th>\n",
       "      <td>5.021872</td>\n",
       "      <td>0.640206</td>\n",
       "      <td>0.782949</td>\n",
       "      <td>3.598717</td>\n",
       "    </tr>\n",
       "    <tr>\n",
       "      <th>10</th>\n",
       "      <td>4.959863</td>\n",
       "      <td>0.595637</td>\n",
       "      <td>0.766182</td>\n",
       "      <td>3.598044</td>\n",
       "    </tr>\n",
       "    <tr>\n",
       "      <th>11</th>\n",
       "      <td>5.067497</td>\n",
       "      <td>0.764304</td>\n",
       "      <td>0.679042</td>\n",
       "      <td>3.624152</td>\n",
       "    </tr>\n",
       "    <tr>\n",
       "      <th>12</th>\n",
       "      <td>5.378422</td>\n",
       "      <td>0.936094</td>\n",
       "      <td>0.783429</td>\n",
       "      <td>3.658898</td>\n",
       "    </tr>\n",
       "    <tr>\n",
       "      <th>13</th>\n",
       "      <td>5.207173</td>\n",
       "      <td>0.823059</td>\n",
       "      <td>0.748415</td>\n",
       "      <td>3.6357</td>\n",
       "    </tr>\n",
       "    <tr>\n",
       "      <th>14</th>\n",
       "      <td>5.723059</td>\n",
       "      <td>1.270997</td>\n",
       "      <td>0.774256</td>\n",
       "      <td>3.677806</td>\n",
       "    </tr>\n",
       "    <tr>\n",
       "      <th>15</th>\n",
       "      <td>5.571238</td>\n",
       "      <td>1.170528</td>\n",
       "      <td>0.745369</td>\n",
       "      <td>3.655341</td>\n",
       "    </tr>\n",
       "    <tr>\n",
       "      <th>16</th>\n",
       "      <td>5.861207</td>\n",
       "      <td>1.446831</td>\n",
       "      <td>0.722589</td>\n",
       "      <td>3.691787</td>\n",
       "    </tr>\n",
       "    <tr>\n",
       "      <th>17</th>\n",
       "      <td>6.078659</td>\n",
       "      <td>1.614988</td>\n",
       "      <td>0.767614</td>\n",
       "      <td>3.696058</td>\n",
       "    </tr>\n",
       "    <tr>\n",
       "      <th>18</th>\n",
       "      <td>6.282254</td>\n",
       "      <td>1.810505</td>\n",
       "      <td>0.752737</td>\n",
       "      <td>3.719012</td>\n",
       "    </tr>\n",
       "    <tr>\n",
       "      <th>19</th>\n",
       "      <td>6.705991</td>\n",
       "      <td>2.175175</td>\n",
       "      <td>0.772362</td>\n",
       "      <td>3.758454</td>\n",
       "    </tr>\n",
       "    <tr>\n",
       "      <th>20</th>\n",
       "      <td>6.920617</td>\n",
       "      <td>2.261631</td>\n",
       "      <td>0.857591</td>\n",
       "      <td>3.801395</td>\n",
       "    </tr>\n",
       "    <tr>\n",
       "      <th>21</th>\n",
       "      <td>7.396049</td>\n",
       "      <td>2.724497</td>\n",
       "      <td>0.858114</td>\n",
       "      <td>3.813439</td>\n",
       "    </tr>\n",
       "    <tr>\n",
       "      <th>22</th>\n",
       "      <td>7.495768</td>\n",
       "      <td>2.67414</td>\n",
       "      <td>1.005341</td>\n",
       "      <td>3.816287</td>\n",
       "    </tr>\n",
       "    <tr>\n",
       "      <th>23</th>\n",
       "      <td>7.829531</td>\n",
       "      <td>3.082183</td>\n",
       "      <td>0.872271</td>\n",
       "      <td>3.875078</td>\n",
       "    </tr>\n",
       "    <tr>\n",
       "      <th>24</th>\n",
       "      <td>8.422732</td>\n",
       "      <td>3.57614</td>\n",
       "      <td>0.961642</td>\n",
       "      <td>3.884951</td>\n",
       "    </tr>\n",
       "    <tr>\n",
       "      <th>25</th>\n",
       "      <td>8.345869</td>\n",
       "      <td>3.43866</td>\n",
       "      <td>1.032574</td>\n",
       "      <td>3.874635</td>\n",
       "    </tr>\n",
       "    <tr>\n",
       "      <th>26</th>\n",
       "      <td>9.158521</td>\n",
       "      <td>4.075404</td>\n",
       "      <td>1.153569</td>\n",
       "      <td>3.929548</td>\n",
       "    </tr>\n",
       "    <tr>\n",
       "      <th>27</th>\n",
       "      <td>9.538933</td>\n",
       "      <td>4.34481</td>\n",
       "      <td>1.263923</td>\n",
       "      <td>3.930199</td>\n",
       "    </tr>\n",
       "    <tr>\n",
       "      <th>28</th>\n",
       "      <td>10.564979</td>\n",
       "      <td>5.619304</td>\n",
       "      <td>0.943623</td>\n",
       "      <td>4.002051</td>\n",
       "    </tr>\n",
       "    <tr>\n",
       "      <th>29</th>\n",
       "      <td>9.843576</td>\n",
       "      <td>4.982003</td>\n",
       "      <td>0.887945</td>\n",
       "      <td>3.973628</td>\n",
       "    </tr>\n",
       "    <tr>\n",
       "      <th>30</th>\n",
       "      <td>11.843215</td>\n",
       "      <td>6.454509</td>\n",
       "      <td>1.360361</td>\n",
       "      <td>4.028345</td>\n",
       "    </tr>\n",
       "  </tbody>\n",
       "</table>\n",
       "</div>"
      ],
      "text/plain": [
       "          MSE  Bias$^2$  Variance Irred. Error\n",
       "1    7.740122  0.121191   4.20123     3.417701\n",
       "2    5.681814  0.032399  2.240147     3.409267\n",
       "3    5.083081  0.090349  1.532603     3.460129\n",
       "4    4.627755  0.051585  1.130595     3.445575\n",
       "5    4.860961  0.252375  1.089281     3.519305\n",
       "6    4.705251  0.260165  0.937535     3.507552\n",
       "7    4.636355  0.270009  0.856178     3.510169\n",
       "8    4.856241  0.445004  0.827447     3.583791\n",
       "9    5.021872  0.640206  0.782949     3.598717\n",
       "10   4.959863  0.595637  0.766182     3.598044\n",
       "11   5.067497  0.764304  0.679042     3.624152\n",
       "12   5.378422  0.936094  0.783429     3.658898\n",
       "13   5.207173  0.823059  0.748415       3.6357\n",
       "14   5.723059  1.270997  0.774256     3.677806\n",
       "15   5.571238  1.170528  0.745369     3.655341\n",
       "16   5.861207  1.446831  0.722589     3.691787\n",
       "17   6.078659  1.614988  0.767614     3.696058\n",
       "18   6.282254  1.810505  0.752737     3.719012\n",
       "19   6.705991  2.175175  0.772362     3.758454\n",
       "20   6.920617  2.261631  0.857591     3.801395\n",
       "21   7.396049  2.724497  0.858114     3.813439\n",
       "22   7.495768   2.67414  1.005341     3.816287\n",
       "23   7.829531  3.082183  0.872271     3.875078\n",
       "24   8.422732   3.57614  0.961642     3.884951\n",
       "25   8.345869   3.43866  1.032574     3.874635\n",
       "26   9.158521  4.075404  1.153569     3.929548\n",
       "27   9.538933   4.34481  1.263923     3.930199\n",
       "28  10.564979  5.619304  0.943623     4.002051\n",
       "29   9.843576  4.982003  0.887945     3.973628\n",
       "30  11.843215  6.454509  1.360361     4.028345"
      ]
     },
     "execution_count": 18,
     "metadata": {},
     "output_type": "execute_result"
    }
   ],
   "source": [
    "repeats = 50\n",
    "k_range = range(1,31)\n",
    "\n",
    "train_size = 70\n",
    "\n",
    "# For simplicity, we fix a large test sample throughout\n",
    "X_test, y_test = sample(p, 500, sigma, x_min, x_max)\n",
    "\n",
    "# Initialize dataframe to store results\n",
    "mse_df = pd.DataFrame(index = k_range, columns = ['MSE', 'Bias$^2$', 'Variance', 'Irred. Error'])\n",
    "\n",
    "for k in k_range:\n",
    "    # Dataframe to store predicted y values across each repeat\n",
    "    y_pred_df = pd.DataFrame(index = X_test[:,0], columns = range(repeats))\n",
    "\n",
    "    for i in range(repeats):\n",
    "        # Draw training sample\n",
    "        X_train, y_train = sample(p, train_size, sigma, x_min, x_max)\n",
    "\n",
    "        # Fit model\n",
    "        knn = KNeighborsRegressor(n_neighbors = k)\n",
    "        knn.fit(X_train, y_train)\n",
    "\n",
    "        # Make predictions on test data and record them\n",
    "        y_pred = knn.predict(X_test)\n",
    "        y_pred_df[i] = y_pred\n",
    "\n",
    "    # Compute average MSE, bias^2, variance, and irreducible error across all repeats\n",
    "    df = pd.DataFrame()\n",
    "    df['MSE'] = ((y_pred_df - y_test)**2).mean(axis = 1)\n",
    "    df['Bias$^2$'] = (y_pred_df.mean(axis = 1) - p(X_test[:,0]))**2\n",
    "    df['Variance'] = y_pred_df.var(axis = 1)\n",
    "    df['Irred. Error'] = df['MSE'] - df['Bias$^2$'] - df['Variance']\n",
    "\n",
    "    mse_df.at[k,:] = df.mean()\n",
    "\n",
    "mse_df"
   ]
  },
  {
   "cell_type": "code",
   "execution_count": 19,
   "id": "4531c1ee",
   "metadata": {},
   "outputs": [
    {
     "data": {
      "text/plain": [
       "<matplotlib.lines.Line2D at 0x2c62ce832b0>"
      ]
     },
     "execution_count": 19,
     "metadata": {},
     "output_type": "execute_result"
    },
    {
     "data": {
      "image/png": "[encoded data removed]",
      "text/plain": [
       "<Figure size 720x432 with 1 Axes>"
      ]
     },
     "metadata": {
      "needs_background": "light"
     },
     "output_type": "display_data"
    }
   ],
   "source": [
    "mse_df.plot(figsize = (10,6), xlabel = '$k$', style = {'MSE' : 'orange', 'Irred. Error' : 'grey', 'Bias$^2$' : 'g', 'Variance' : 'b'})\n",
    "best_k = mse_df['MSE'].sort_values().index[0]\n",
    "plt.axvline(x = best_k, color = 'black', linestyle = '--', linewidth = 0.5)"
   ]
  },
  {
   "cell_type": "markdown",
   "id": "3ac8e200",
   "metadata": {},
   "source": [
    "Questions to think about:\n",
    "\n",
    "- How do the squared bias, variance and irreducible error change as $k$ increases?\n",
    "- Does model complexity increase or decrease with $k$?\n",
    "- Which parameter determines the irreducible error?"
   ]
  }
 ],
 "metadata": {
  "kernelspec": {
   "display_name": "Python 3 (ipykernel)",
   "language": "python",
   "name": "python3"
  },
  "language_info": {
   "codemirror_mode": {
    "name": "ipython",
    "version": 3
   },
   "file_extension": ".py",
   "mimetype": "text/x-python",
   "name": "python",
   "nbconvert_exporter": "python",
   "pygments_lexer": "ipython3",
   "version": "3.8.3"
  }
 },
 "nbformat": 4,
 "nbformat_minor": 5
}
